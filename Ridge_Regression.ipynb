{
  "nbformat": 4,
  "nbformat_minor": 0,
  "metadata": {
    "colab": {
      "provenance": [],
      "authorship_tag": "ABX9TyMnD2qTrPUef7i5Ai32vGDb",
      "include_colab_link": true
    },
    "kernelspec": {
      "name": "python3",
      "display_name": "Python 3"
    },
    "language_info": {
      "name": "python"
    }
  },
  "cells": [
    {
      "cell_type": "markdown",
      "metadata": {
        "id": "view-in-github",
        "colab_type": "text"
      },
      "source": [
        "<a href=\"https://colab.research.google.com/github/waqasahmad-developer/Ridge_Regression/blob/main/Ridge_Regression.ipynb\" target=\"_parent\"><img src=\"https://colab.research.google.com/assets/colab-badge.svg\" alt=\"Open In Colab\"/></a>"
      ]
    },
    {
      "cell_type": "code",
      "execution_count": null,
      "metadata": {
        "id": "cC-MWMej7iNc"
      },
      "outputs": [],
      "source": [
        "from sklearn.datasets import make_regression\n",
        "import matplotlib.pyplot as plt\n",
        "import numpy as np"
      ]
    },
    {
      "cell_type": "code",
      "source": [
        "X,y = make_regression(n_samples=100, n_features=1, n_informative=1, n_targets=1,noise=20,random_state=13)"
      ],
      "metadata": {
        "id": "2Ablf8bS8IYF"
      },
      "execution_count": null,
      "outputs": []
    },
    {
      "cell_type": "code",
      "source": [
        "plt.scatter(X,y)"
      ],
      "metadata": {
        "colab": {
          "base_uri": "https://localhost:8080/",
          "height": 447
        },
        "id": "IFEUCwP_8WrH",
        "outputId": "6b4174cb-db07-4f58-9b81-1309a92fcc74"
      },
      "execution_count": null,
      "outputs": [
        {
          "output_type": "execute_result",
          "data": {
            "text/plain": [
              "<matplotlib.collections.PathCollection at 0x7bcf3f309ed0>"
            ]
          },
          "metadata": {},
          "execution_count": 53
        },
        {
          "output_type": "display_data",
          "data": {
            "text/plain": [
              "<Figure size 640x480 with 1 Axes>"
            ],
            "image/png": "[encoded data removed]"
          },
          "metadata": {}
        }
      ]
    },
    {
      "cell_type": "code",
      "source": [
        "from sklearn.linear_model import LinearRegression"
      ],
      "metadata": {
        "id": "oR1s-fD88Znj"
      },
      "execution_count": null,
      "outputs": []
    },
    {
      "cell_type": "code",
      "source": [
        "lr = LinearRegression()\n",
        "lr.fit(X,y)\n",
        "print(lr.coef_)\n",
        "print(lr.intercept_)"
      ],
      "metadata": {
        "colab": {
          "base_uri": "https://localhost:8080/"
        },
        "id": "2y6we6Re8ofx",
        "outputId": "048c64f2-b73f-4944-d707-921188716fff"
      },
      "execution_count": null,
      "outputs": [
        {
          "output_type": "stream",
          "name": "stdout",
          "text": [
            "[27.82809103]\n",
            "-2.29474455867698\n"
          ]
        }
      ]
    },
    {
      "cell_type": "code",
      "source": [
        "from sklearn.linear_model import Ridge"
      ],
      "metadata": {
        "id": "DbsCj4w_8tLC"
      },
      "execution_count": null,
      "outputs": []
    },
    {
      "cell_type": "markdown",
      "source": [
        "# **Using Sklearn built-in class**"
      ],
      "metadata": {
        "id": "bHgXxDFr9isB"
      }
    },
    {
      "cell_type": "code",
      "source": [
        "rr = Ridge(alpha=10)\n",
        "rr.fit(X,y)\n",
        "print(rr.coef_)\n",
        "print(rr.intercept_)"
      ],
      "metadata": {
        "colab": {
          "base_uri": "https://localhost:8080/"
        },
        "id": "GpS6yf_t9IZi",
        "outputId": "ce2d271e-6590-4115-9e30-07ef893b0959"
      },
      "execution_count": null,
      "outputs": [
        {
          "output_type": "stream",
          "name": "stdout",
          "text": [
            "[24.9546267]\n",
            "-2.1269130035235735\n"
          ]
        }
      ]
    },
    {
      "cell_type": "code",
      "source": [
        "rr1 = Ridge(alpha=1)\n",
        "rr1.fit(X,y)\n",
        "print(rr1.coef_)\n",
        "print(rr1.intercept_)"
      ],
      "metadata": {
        "colab": {
          "base_uri": "https://localhost:8080/"
        },
        "id": "2F_XReAu_Odw",
        "outputId": "b330ce16-4d1f-4832-ae56-3e5574fd2b56"
      },
      "execution_count": null,
      "outputs": [
        {
          "output_type": "stream",
          "name": "stdout",
          "text": [
            "[27.51130507]\n",
            "-2.276241917183367\n"
          ]
        }
      ]
    },
    {
      "cell_type": "code",
      "source": [
        "plt.plot(X,y,'b.')\n",
        "plt.plot(X,lr.predict(X),color='red',label='alpha=0')\n",
        "plt.plot(X,rr.predict(X),color='green',label='alpha=10')\n",
        "plt.plot(X,rr1.predict(X),color='orange',label='alpha=50')\n",
        "plt.legend()"
      ],
      "metadata": {
        "colab": {
          "base_uri": "https://localhost:8080/",
          "height": 447
        },
        "id": "b-Gowq48_UnI",
        "outputId": "38593ea3-c1ab-4ca2-9d37-1948a2029d13"
      },
      "execution_count": null,
      "outputs": [
        {
          "output_type": "execute_result",
          "data": {
            "text/plain": [
              "<matplotlib.legend.Legend at 0x7bcf3f32f390>"
            ]
          },
          "metadata": {},
          "execution_count": 59
        },
        {
          "output_type": "display_data",
          "data": {
            "text/plain": [
              "<Figure size 640x480 with 1 Axes>"
            ],
            "image/png": "[encoded data removed]"
          },
          "metadata": {}
        }
      ]
    },
    {
      "cell_type": "markdown",
      "source": [
        "# **Building my own Ridge class**"
      ],
      "metadata": {
        "id": "QrWSmHRS9s4K"
      }
    },
    {
      "cell_type": "code",
      "source": [
        "class MeraRidge:\n",
        "  def __init__(self,alpha=10):\n",
        "    self.alpha = alpha\n",
        "    self.coef_ = None\n",
        "    self.intercept_ = None\n",
        "\n",
        "\n",
        "  def fit(self,X_train,y_train):\n",
        "    num = 0\n",
        "    den = 0\n",
        "    for i in range(X_train.shape[0]):\n",
        "      num = num + (y_train[i] - y_train.mean()) * (X_train[i] - X_train.mean())\n",
        "      den = den + (X_train[i]- X_train.mean()) **2\n",
        "\n",
        "\n",
        "    self.coef_ = num/(den +self.alpha)\n",
        "    self.intercept_ = y_train.mean() - (self.coef_ * X_train.mean())\n",
        "\n",
        "    print(self.coef_,self.intercept_)\n",
        "\n",
        "  def predict(self,X_test):\n",
        "    return self.coef_ * X_test + self.intercept_"
      ],
      "metadata": {
        "id": "nz1K6QpiBcHz"
      },
      "execution_count": null,
      "outputs": []
    },
    {
      "cell_type": "code",
      "source": [
        "reg = MeraRidge(10)\n",
        "reg.fit(X,y)"
      ],
      "metadata": {
        "colab": {
          "base_uri": "https://localhost:8080/"
        },
        "id": "xVoyjPoaA1sX",
        "outputId": "ff400b5a-ad64-44bb-a011-fd8541efa4ab"
      },
      "execution_count": null,
      "outputs": [
        {
          "output_type": "stream",
          "name": "stdout",
          "text": [
            "[24.9546267] [-2.126913]\n"
          ]
        }
      ]
    },
    {
      "cell_type": "code",
      "source": [],
      "metadata": {
        "id": "gYufVnkOCuwc"
      },
      "execution_count": null,
      "outputs": []
    }
  ]
}