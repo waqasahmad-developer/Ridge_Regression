{
  "nbformat": 4,
  "nbformat_minor": 0,
  "metadata": {
    "colab": {
      "provenance": [],
      "authorship_tag": "ABX9TyNAQFYW4molp1+3/NRt6pWd",
      "include_colab_link": true
    },
    "kernelspec": {
      "name": "python3",
      "display_name": "Python 3"
    },
    "language_info": {
      "name": "python"
    }
  },
  "cells": [
    {
      "cell_type": "markdown",
      "metadata": {
        "id": "view-in-github",
        "colab_type": "text"
      },
      "source": [
        "<a href=\"https://colab.research.google.com/github/waqasahmad-developer/Ridge_Regression/blob/main/Ridge_Gradient_Descent.ipynb\" target=\"_parent\"><img src=\"https://colab.research.google.com/assets/colab-badge.svg\" alt=\"Open In Colab\"/></a>"
      ]
    },
    {
      "cell_type": "code",
      "execution_count": null,
      "metadata": {
        "id": "nUwDFO_cV_eP"
      },
      "outputs": [],
      "source": [
        "from sklearn.datasets import load_diabetes\n",
        "from sklearn.metrics import r2_score\n",
        "import numpy as np"
      ]
    },
    {
      "cell_type": "code",
      "source": [
        "X,y = load_diabetes(return_X_y=True)"
      ],
      "metadata": {
        "id": "Fz3jzavsWc3X"
      },
      "execution_count": null,
      "outputs": []
    },
    {
      "cell_type": "code",
      "source": [
        "from sklearn.model_selection import train_test_split\n",
        "X_train,X_test,y_train,y_test = train_test_split(X,y,test_size=0.2,random_state=2)"
      ],
      "metadata": {
        "id": "fe77C0y4Wiya"
      },
      "execution_count": null,
      "outputs": []
    },
    {
      "cell_type": "code",
      "source": [
        "from sklearn.linear_model import SGDRegressor"
      ],
      "metadata": {
        "id": "TNjcedUWW1so"
      },
      "execution_count": null,
      "outputs": []
    },
    {
      "cell_type": "code",
      "source": [
        "reg = SGDRegressor(penalty='l2',max_iter=500,eta0=0.01,learning_rate='constant',alpha=0.001)"
      ],
      "metadata": {
        "id": "225xnqOOW7SP"
      },
      "execution_count": null,
      "outputs": []
    },
    {
      "cell_type": "code",
      "source": [
        "reg.fit(X_train,y_train)\n",
        "y_pred = reg.predict(X_test)\n",
        "print(r2_score(y_test,y_pred))\n",
        "print(reg.coef_)\n",
        "print(reg.intercept_)"
      ],
      "metadata": {
        "colab": {
          "base_uri": "https://localhost:8080/"
        },
        "id": "WYgXl441XF2Z",
        "outputId": "77bd5195-8350-40d3-e412-eb21f4b8f566"
      },
      "execution_count": null,
      "outputs": [
        {
          "output_type": "stream",
          "name": "stdout",
          "text": [
            "0.4275090656015549\n",
            "[  51.36694729  -62.47293769  324.69565519  229.41483639   16.50893638\n",
            "  -26.15500536 -160.67727034  119.74446132  295.98443903  118.77894062]\n",
            "[151.5069726]\n"
          ]
        }
      ]
    },
    {
      "cell_type": "code",
      "source": [
        "from sklearn.linear_model import Ridge\n",
        "\n",
        "rg = Ridge(alpha=0.001, max_iter=500,solver='sparse_cg')  # sparse_cg, sag, saga these three solver use Gradient Descent"
      ],
      "metadata": {
        "id": "y8VpiCSxXdEc"
      },
      "execution_count": null,
      "outputs": []
    },
    {
      "cell_type": "code",
      "source": [
        "rg.fit(X_train,y_train)\n",
        "y_pred = rg.predict(X_test)\n",
        "print(r2_score(y_test,y_pred))\n",
        "print(rg.coef_)\n",
        "print(rg.intercept_)"
      ],
      "metadata": {
        "colab": {
          "base_uri": "https://localhost:8080/"
        },
        "id": "5qKiLH4xXqAQ",
        "outputId": "d71dc131-49c5-42e0-f205-8df766ffb334"
      },
      "execution_count": null,
      "outputs": [
        {
          "output_type": "stream",
          "name": "stdout",
          "text": [
            "0.44086171110501016\n",
            "[  -8.76148626 -204.3134038   518.38060964  339.96792698 -787.70050902\n",
            "  475.28218248  106.79525197  114.62926652  819.74572421   52.87335061]\n",
            "151.88534078043028\n"
          ]
        }
      ]
    },
    {
      "cell_type": "markdown",
      "source": [
        "# Building my own Ridge using Gradeint Descent"
      ],
      "metadata": {
        "id": "o-tPNQTuX2nE"
      }
    },
    {
      "cell_type": "code",
      "source": [
        "class MeraRidgeGD:\n",
        "    def __init__(self,epochs,learning_rate,alpha):\n",
        "        self.learning_rate = learning_rate\n",
        "        self.epochs = epochs\n",
        "        self.alpha = alpha\n",
        "        self.coef_ = None\n",
        "        self.intercept_ = None\n",
        "\n",
        "    def fit(self,X_train,y_train):\n",
        "      self.coef_ = np.ones(X_train.shape[1])\n",
        "      self.intercept_ = 0\n",
        "\n",
        "      # thetha is the matrix which inlucdes (n+1) intercept_ + total coef_\n",
        "      thetha = np.insert(self.coef_,0,self.intercept_)\n",
        "\n",
        "      X_train = np.insert(X_train,0,1,axis=1)\n",
        "\n",
        "      for i in range(self.epochs):\n",
        "        thetha_der = np.dot(X_train.T,X_train).dot(thetha) - np.dot(X_train.T,y_train) + self.alpha*thetha\n",
        "        thetha = thetha - self.learning_rate*thetha_der\n",
        "\n",
        "      self.coef_ = thetha[1:]\n",
        "      self.intercept_ = thetha[0]\n",
        "\n",
        "    def predict(self,X_test):\n",
        "      return np.dot(X_test,self.coef_) + self.intercept_"
      ],
      "metadata": {
        "id": "tAyNvOPZXxej"
      },
      "execution_count": null,
      "outputs": []
    },
    {
      "cell_type": "code",
      "source": [
        "mrgd = MeraRidgeGD(epochs=500,learning_rate=0.001,alpha=0.001)"
      ],
      "metadata": {
        "id": "I0ExXB-1tB_C"
      },
      "execution_count": null,
      "outputs": []
    },
    {
      "cell_type": "code",
      "source": [
        "mrgd.fit(X_train,y_train)\n",
        "y_pred = mrgd.predict(X_test)\n",
        "\n",
        "print(r2_score(y_test,y_pred))\n",
        "print(mrgd.coef_)\n",
        "print(mrgd.intercept_)"
      ],
      "metadata": {
        "colab": {
          "base_uri": "https://localhost:8080/"
        },
        "id": "ByT6AFPPbdXn",
        "outputId": "9001020a-0366-459a-afcb-5ec405bd2f27"
      },
      "execution_count": null,
      "outputs": [
        {
          "output_type": "stream",
          "name": "stdout",
          "text": [
            "0.38613499203591084\n",
            "[  61.37843694  -17.84423408  243.34238396  179.40973917   41.58597584\n",
            "   15.3900342  -134.40287294  120.27054623  227.82407548  114.61452581]\n",
            "151.87801283605742\n"
          ]
        }
      ]
    },
    {
      "cell_type": "code",
      "source": [],
      "metadata": {
        "id": "WPasTnlztQ2k"
      },
      "execution_count": null,
      "outputs": []
    }
  ]
}